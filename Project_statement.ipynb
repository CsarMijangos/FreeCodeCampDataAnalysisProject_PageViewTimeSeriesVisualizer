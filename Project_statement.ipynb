{
 "cells": [
  {
   "cell_type": "markdown",
   "id": "ebe3303f",
   "metadata": {},
   "source": [
    "# Instructions"
   ]
  },
  {
   "cell_type": "markdown",
   "id": "32151b22",
   "metadata": {},
   "source": [
    "For this project you will visualize time series data using a line chart, bar chart, and box plots. You will use Pandas, Matplotlib, and Seaborn to visualize a dataset containing the number of page views each day on the freeCodeCamp.org forum from 2016-05-09 to 2019-12-03. The data visualizations will help you understand the patterns in visits and identify yearly and monthly growth.\n",
    "\n",
    "Use the data to complete the following tasks:\n",
    "\n",
    "- Use Pandas to import the data from \"fcc-forum-pageviews.csv\". Set the index to the \"date\" column.\n",
    "- Clean the data by filtering out days when the page views were in the top 2.5% of the dataset or bottom 2.5% of the dataset.\n",
    "- Create a draw_line_plot function that uses Matplotlib to draw a line chart similar to \"examples/Figure_1.png\". The title should be \"Daily freeCodeCamp Forum Page Views 5/2016-12/2019\". The label on the x axis should be \"Date\" and the label on the y axis should be \"Page Views\".\n",
    "- Create a draw_bar_plot function that draws a bar chart similar to \"examples/Figure_2.png\". It should show average daily page views for each month grouped by year. The legend should show month labels and have a title of \"Months\". On the chart, the label on the x axis should be \"Years\" and the label on the y axis should be \"Average Page Views\".\n",
    "- Create a draw_box_plot function that uses Seaborn to draw two adjacent box plots similar to \"examples/Figure_3.png\". These box plots should show how the values are distributed within a given year or month and how it compares over time. The title of the first chart should be \"Year-wise Box Plot (Trend)\" and the title of the second chart should be \"Month-wise Box Plot (Seasonality)\". Make sure the month labels on bottom start at \"Jan\" and the x and x axis are labeled correctly. The boilerplate includes commands to prepare the data.\n",
    "For each chart, make sure to use a copy of the data frame. Unit tests are written for you under test_module.py.\n",
    "\n",
    "The boilerplate also includes commands to save and return the image.\n",
    "\n",
    "## Development\n",
    "For development, you can use main.py to test your functions. Click the \"run\" button and main.py will run.\n",
    "\n",
    "## Testing\n",
    "We imported the tests from test_module.py to main.py for your convenience. The tests will run automatically whenever you hit the \"run\" button.\n",
    "\n",
    "## Submitting\n",
    "Copy your project's URL and submit it to freeCodeCamp.\n",
    "\n"
   ]
  },
  {
   "cell_type": "code",
   "execution_count": null,
   "id": "67faaa00",
   "metadata": {},
   "outputs": [],
   "source": []
  }
 ],
 "metadata": {
  "kernelspec": {
   "display_name": "Python 3 (ipykernel)",
   "language": "python",
   "name": "python3"
  },
  "language_info": {
   "codemirror_mode": {
    "name": "ipython",
    "version": 3
   },
   "file_extension": ".py",
   "mimetype": "text/x-python",
   "name": "python",
   "nbconvert_exporter": "python",
   "pygments_lexer": "ipython3",
   "version": "3.9.1"
  }
 },
 "nbformat": 4,
 "nbformat_minor": 5
}
